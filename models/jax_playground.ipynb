{
 "cells": [
  {
   "cell_type": "code",
   "execution_count": 2,
   "metadata": {},
   "outputs": [],
   "source": [
    "## JAX\n",
    "import jax\n",
    "import jax.numpy as jnp\n",
    "from jax import random\n",
    "# Seeding for random operations\n",
    "main_rng = random.PRNGKey(42)\n",
    "\n",
    "## Flax (NN in JAX)\n",
    "import flax\n",
    "from flax import linen as nn\n",
    "\n",
    "from typing import List\n",
    "import copy\n",
    "\n",
    "from backbone import ResNet18\n",
    "from hybrid_encoder import TransformerEncoder\n",
    "\n",
    "rng, inp_rng, init_rng = jax.random.split(main_rng, 3)\n",
    "inp = jax.random.normal(inp_rng, (1, 224, 224, 3))"
   ]
  },
  {
   "cell_type": "markdown",
   "metadata": {},
   "source": [
    "## BACKBONE"
   ]
  },
  {
   "cell_type": "code",
   "execution_count": 2,
   "metadata": {},
   "outputs": [
    {
     "data": {
      "text/plain": [
       "'\\nparams = model.init(init_rng, inp)\\noutput = model.apply(params, inp)\\n'"
      ]
     },
     "execution_count": 2,
     "metadata": {},
     "output_type": "execute_result"
    }
   ],
   "source": [
    "\n",
    "# from backbone import ResNet18\n",
    "\n",
    "# rng, inp_rng, init_rng = jax.random.split(main_rng, 3)\n",
    "# inp = jax.random.normal(inp_rng, (1, 224, 224, 3))\n",
    "\n",
    "# model = ResNet18(n_classes = 0)\n",
    "# params = model.init(init_rng, inp)\n",
    "# output = model.apply(params, inp)\n",
    "# print(output.shape)\n",
    "\n",
    "'''\n",
    "params = model.init(init_rng, inp)\n",
    "output = model.apply(params, inp)\n",
    "'''"
   ]
  },
  {
   "cell_type": "markdown",
   "metadata": {},
   "source": [
    "## Hybrid Encoder"
   ]
  },
  {
   "cell_type": "code",
   "execution_count": 3,
   "metadata": {},
   "outputs": [],
   "source": [
    "input_proj = nn.Sequential([nn.Conv(512, kernel_size=(1,1), use_bias = False), nn.BatchNorm(use_running_average=True)])\n",
    "encoder = TransformerEncoder()"
   ]
  },
  {
   "cell_type": "code",
   "execution_count": 5,
   "metadata": {},
   "outputs": [
    {
     "name": "stdout",
     "output_type": "stream",
     "text": [
      "(2, 7, 7, 512)\n"
     ]
    }
   ],
   "source": [
    "inp_2 = jax.random.normal(inp_rng, (2, 7, 7, 512))\n",
    "params = input_proj.init(init_rng, inp_2)\n",
    "output = input_proj.apply(params, inp_2)\n",
    "print(output.shape)"
   ]
  },
  {
   "cell_type": "code",
   "execution_count": 6,
   "metadata": {},
   "outputs": [
    {
     "name": "stdout",
     "output_type": "stream",
     "text": [
      "(2, 7, 7, 512)\n"
     ]
    }
   ],
   "source": [
    "params = encoder.init({'params': init_rng, 'dropout': init_rng}, output, True)\n",
    "output = encoder.apply(params, output, rngs={'dropout': init_rng})\n",
    "print(output.shape)"
   ]
  },
  {
   "cell_type": "code",
   "execution_count": 7,
   "metadata": {},
   "outputs": [
    {
     "data": {
      "text/plain": [
       "tuple"
      ]
     },
     "execution_count": 7,
     "metadata": {},
     "output_type": "execute_result"
    }
   ],
   "source": [
    "ups = tuple([])"
   ]
  },
  {
   "cell_type": "code",
   "execution_count": 9,
   "metadata": {},
   "outputs": [
    {
     "name": "stdout",
     "output_type": "stream",
     "text": [
      "2\n",
      "7\n",
      "7\n",
      "512\n"
     ]
    }
   ],
   "source": [
    "for x in output.shape:\n",
    "    print(x)"
   ]
  },
  {
   "cell_type": "code",
   "execution_count": null,
   "metadata": {},
   "outputs": [],
   "source": []
  }
 ],
 "metadata": {
  "kernelspec": {
   "display_name": "jax",
   "language": "python",
   "name": "python3"
  },
  "language_info": {
   "codemirror_mode": {
    "name": "ipython",
    "version": 3
   },
   "file_extension": ".py",
   "mimetype": "text/x-python",
   "name": "python",
   "nbconvert_exporter": "python",
   "pygments_lexer": "ipython3",
   "version": "3.10.0"
  }
 },
 "nbformat": 4,
 "nbformat_minor": 2
}
