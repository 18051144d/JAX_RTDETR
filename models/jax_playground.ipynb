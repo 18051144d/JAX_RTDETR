{
 "cells": [
  {
   "cell_type": "code",
   "execution_count": 1,
   "metadata": {},
   "outputs": [],
   "source": [
    "import os\n",
    "import sys\n",
    "import copy\n",
    "import numpy as np\n",
    "np.random.seed(0)"
   ]
  },
  {
   "cell_type": "code",
   "execution_count": 2,
   "metadata": {},
   "outputs": [],
   "source": [
    "import torch\n",
    "import torch.nn as nn\n",
    "import torch.nn.functional as F \n",
    "\n",
    "import jax\n",
    "import jax.numpy as jnp\n",
    "from flax import linen as jnn\n",
    "\n",
    "import einops"
   ]
  },
  {
   "cell_type": "code",
   "execution_count": 20,
   "metadata": {},
   "outputs": [
    {
     "data": {
      "text/plain": [
       "array([[[[ 0.,  1.,  2.,  3.,  4.],\n",
       "         [ 5.,  6.,  7.,  8.,  9.],\n",
       "         [10., 11., 12., 13., 14.],\n",
       "         [15., 16., 17., 18., 19.],\n",
       "         [20., 21., 22., 23., 24.]],\n",
       "\n",
       "        [[25., 26., 27., 28., 29.],\n",
       "         [30., 31., 32., 33., 34.],\n",
       "         [35., 36., 37., 38., 39.],\n",
       "         [40., 41., 42., 43., 44.],\n",
       "         [45., 46., 47., 48., 49.]],\n",
       "\n",
       "        [[50., 51., 52., 53., 54.],\n",
       "         [55., 56., 57., 58., 59.],\n",
       "         [60., 61., 62., 63., 64.],\n",
       "         [65., 66., 67., 68., 69.],\n",
       "         [70., 71., 72., 73., 74.]]]])"
      ]
     },
     "execution_count": 20,
     "metadata": {},
     "output_type": "execute_result"
    }
   ],
   "source": [
    "# Test grid sample \n",
    "x = np.arange(75.).reshape((1, 3, 5, 5))\n",
    "x"
   ]
  },
  {
   "cell_type": "code",
   "execution_count": 4,
   "metadata": {},
   "outputs": [
    {
     "name": "stdout",
     "output_type": "stream",
     "text": [
      "max: 0.8556442260742188 min: -0.9678440093994141\n"
     ]
    }
   ],
   "source": [
    "# equal to x\n",
    "torch_grid = torch.rand((1, 5, 5, 2), dtype=torch.float) * 2 - 1\n",
    "numpy_grid = torch_grid.numpy()\n",
    "print(f'max: {torch.max(torch_grid)} min: {torch.min(torch_grid)}')"
   ]
  },
  {
   "cell_type": "code",
   "execution_count": 17,
   "metadata": {},
   "outputs": [],
   "source": [
    "def grid_sampler_compute_source_index(coord, size: int, align_corners: bool):\n",
    "  coord = grid_sampler_unnormalize(coord, size, align_corners)\n",
    "  print(coord, size)\n",
    "  return jnp.clip(coord, 0, size - 1)\n",
    "\n",
    "def grid_sampler_unnormalize(coord, size: int, align_corners: bool):\n",
    "  if align_corners:\n",
    "    return (coord + 1. / 2) * (size - 1)\n",
    "  else:\n",
    "    return ((coord + 1.) * size - 1) / 2"
   ]
  },
  {
   "cell_type": "code",
   "execution_count": 27,
   "metadata": {},
   "outputs": [
    {
     "name": "stdout",
     "output_type": "stream",
     "text": [
      "[[[ 2.855754   -0.27442712  0.515357    0.06548208  2.2507987 ]\n",
      "  [-0.11631715  4.100039    1.1919976   2.9559836   4.1391106 ]\n",
      "  [ 3.4129162   3.1455922  -0.03089565  1.6570919   1.5491953 ]\n",
      "  [-0.34758735  0.91856575  1.525666    1.4007546   2.4929564 ]\n",
      "  [ 3.1884384   1.2327335   3.9161587   3.9766836   0.34198922]]] 5\n",
      "[[[ 1.8326066   3.049519    1.4485173   3.3466935   0.35571796]\n",
      "  [ 1.9808667   0.28369826  1.5969338   0.9364698   2.5415833 ]\n",
      "  [ 2.7321405  -0.41961002  2.009158    3.7586012   1.001533  ]\n",
      "  [ 3.216091   -0.32091337  0.554492   -0.0871833   0.4820041 ]\n",
      "  [ 3.7806883   3.8260922  -0.32138455  1.7887709   0.10089409]]] 5\n",
      "ix max: 4.0 min: 0.0\n",
      "iy max: 3.82609224319458 min: 0.0\n"
     ]
    }
   ],
   "source": [
    "input_arr = jnp.asarray(x)\n",
    "_, C, H, W = input_arr.shape\n",
    "ix = grid_sampler_compute_source_index(numpy_grid[..., 0], W, False)\n",
    "iy = grid_sampler_compute_source_index(numpy_grid[..., 1], H, False)\n",
    "print(f'ix max: {jnp.max(ix)} min: {jnp.min(ix)}')\n",
    "print(f'iy max: {jnp.max(iy)} min: {jnp.min(iy)}')"
   ]
  },
  {
   "cell_type": "code",
   "execution_count": 74,
   "metadata": {},
   "outputs": [
    {
     "data": {
      "text/plain": [
       "Array([[[2., 0., 0., 0., 2.],\n",
       "        [0., 4., 1., 2., 4.],\n",
       "        [3., 3., 0., 1., 1.],\n",
       "        [0., 0., 1., 1., 2.],\n",
       "        [3., 1., 3., 3., 0.]]], dtype=float32)"
      ]
     },
     "execution_count": 74,
     "metadata": {},
     "output_type": "execute_result"
    }
   ],
   "source": [
    "ix_nw"
   ]
  },
  {
   "cell_type": "code",
   "execution_count": 26,
   "metadata": {},
   "outputs": [],
   "source": [
    "# get NE, NW, SE, SW pixel values from (x, y)\n",
    "ix_nw = jnp.floor(ix)\n",
    "iy_nw = jnp.floor(iy)\n",
    "ix_ne = ix_nw + 1\n",
    "iy_ne = jnp.copy(iy_nw)\n",
    "ix_sw = jnp.copy(ix_nw)\n",
    "iy_sw = iy_nw +1\n",
    "ix_se = ix_nw +1\n",
    "iy_se = iy_nw +1\n",
    "\n",
    "# get surfaces to each neighbor\n",
    "nw = (ix_se - ix) * (iy_se - iy)\n",
    "ne = (ix - ix_sw) * (iy_sw - iy)\n",
    "sw = (ix_ne - ix) * (iy - iy_ne)\n",
    "se = (ix - ix_nw) * (iy - iy_nw)"
   ]
  },
  {
   "cell_type": "code",
   "execution_count": 60,
   "metadata": {},
   "outputs": [],
   "source": [
    "i_nw = ix_nw.reshape((1,25)) + iy_nw.reshape((1,25)) * 5\n",
    "i_ne = ix_ne.reshape((1,25)) + iy_ne.reshape((1,25)) * 5\n",
    "i_sw = ix_sw.reshape((1,25)) + iy_sw.reshape((1,25)) * 5\n",
    "i_se = ix_se.reshape((1,25)) + iy_se.reshape((1,25)) * 5"
   ]
  },
  {
   "cell_type": "code",
   "execution_count": 58,
   "metadata": {},
   "outputs": [
    {
     "name": "stdout",
     "output_type": "stream",
     "text": [
      "[[[2. 0. 0. 0. 2.]\n",
      "  [0. 4. 1. 2. 4.]\n",
      "  [3. 3. 0. 1. 1.]\n",
      "  [0. 0. 1. 1. 2.]\n",
      "  [3. 1. 3. 3. 0.]]]\n",
      "[[[1. 3. 1. 3. 0.]\n",
      "  [1. 0. 1. 0. 2.]\n",
      "  [2. 0. 2. 3. 1.]\n",
      "  [3. 0. 0. 0. 0.]\n",
      "  [3. 3. 0. 1. 0.]]]\n"
     ]
    }
   ],
   "source": [
    "print(ix_nw)\n",
    "print(iy_nw)"
   ]
  },
  {
   "cell_type": "code",
   "execution_count": 61,
   "metadata": {},
   "outputs": [],
   "source": [
    "input_arr = input_arr.reshape((1, 3, 25))\n",
    "nw = jnp.take(input_arr, i_nw.astype(int), axis = -1).reshape((1, 3, 5, 5)) * nw\n",
    "ne = jnp.take(input_arr, i_ne.astype(int), axis = -1).reshape((1, 3, 5, 5)) * ne\n",
    "sw = jnp.take(input_arr, i_sw.astype(int), axis = -1).reshape((1, 3, 5, 5)) * sw\n",
    "se = jnp.take(input_arr, i_se.astype(int), axis = -1).reshape((1, 3, 5, 5)) * se"
   ]
  },
  {
   "cell_type": "code",
   "execution_count": 73,
   "metadata": {},
   "outputs": [
    {
     "data": {
      "text/plain": [
       "Array([[1.1831467e+00, 2.1385820e+02, 6.6818051e+00, 1.3736848e+02,\n",
       "        1.9307878e+00],\n",
       "       [4.7833323e-01, 1.1460828e+01, 1.1724422e+01, 1.1185474e-02,\n",
       "        8.9849670e+01],\n",
       "       [2.6576254e+01, 7.6896701e+00, 9.9084206e+01, 2.1191071e+01,\n",
       "        1.6204090e+01],\n",
       "       [1.7637955e+02, 0.0000000e+00, 2.1131960e-01, 5.9924543e-01,\n",
       "        1.0505860e+00],\n",
       "       [5.7667130e+01, 3.4159000e+01, 7.5457191e-01, 3.1520629e-01,\n",
       "        0.0000000e+00]], dtype=float32)"
      ]
     },
     "execution_count": 73,
     "metadata": {},
     "output_type": "execute_result"
    }
   ],
   "source": [
    "nw[0,0,...]"
   ]
  },
  {
   "cell_type": "code",
   "execution_count": 69,
   "metadata": {},
   "outputs": [
    {
     "data": {
      "text/plain": [
       "Array([[ 13.032912  , 214.84859   ,  13.103388  , 145.00954   ,\n",
       "          4.9947824 ],\n",
       "       [ 10.287     ,  14.014112  ,  18.94702   ,   7.643925  ,\n",
       "        100.139755  ],\n",
       "       [ 41.605545  ,   8.272039  ,  99.22157   ,  40.316727  ,\n",
       "         20.06027   ],\n",
       "       [180.70137   ,   0.91856575,   4.298126  ,   1.4007546 ,\n",
       "          5.42827   ],\n",
       "       [ 76.55528   ,  52.38726   ,   4.4192066 ,  13.196343  ,\n",
       "          0.84645975]], dtype=float32)"
      ]
     },
     "execution_count": 69,
     "metadata": {},
     "output_type": "execute_result"
    }
   ],
   "source": [
    "jax_output = nw + ne + sw + se\n",
    "jax_output[0,0,...]"
   ]
  },
  {
   "cell_type": "code",
   "execution_count": 70,
   "metadata": {},
   "outputs": [
    {
     "data": {
      "text/plain": [
       "tensor([[12.0188, 11.0632,  7.7579, 16.7990,  4.0294],\n",
       "        [ 8.7523,  4.8764,  9.1767,  7.6383, 14.3837],\n",
       "        [17.0736,  1.8257,  9.7354, 20.4501,  6.5569],\n",
       "        [10.4911,  0.6238,  4.2981,  1.2786,  4.9030],\n",
       "        [22.0919, 20.3632,  2.6576, 12.9205,  0.8465]], dtype=torch.float64)"
      ]
     },
     "execution_count": 70,
     "metadata": {},
     "output_type": "execute_result"
    }
   ],
   "source": [
    "torch_output = F.grid_sample(torch.tensor(x), torch_grid.to(float), align_corners = False)\n",
    "torch_output[0, 0, ...]"
   ]
  },
  {
   "cell_type": "code",
   "execution_count": null,
   "metadata": {},
   "outputs": [],
   "source": []
  }
 ],
 "metadata": {
  "kernelspec": {
   "display_name": "jax",
   "language": "python",
   "name": "python3"
  },
  "language_info": {
   "codemirror_mode": {
    "name": "ipython",
    "version": 3
   },
   "file_extension": ".py",
   "mimetype": "text/x-python",
   "name": "python",
   "nbconvert_exporter": "python",
   "pygments_lexer": "ipython3",
   "version": "3.10.0"
  }
 },
 "nbformat": 4,
 "nbformat_minor": 2
}
