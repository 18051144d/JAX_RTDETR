{
 "cells": [
  {
   "cell_type": "code",
   "execution_count": 2,
   "metadata": {},
   "outputs": [],
   "source": [
    "import os\n",
    "import sys\n",
    "import copy\n",
    "import numpy as np\n",
    "np.random.seed(0)"
   ]
  },
  {
   "cell_type": "code",
   "execution_count": 3,
   "metadata": {},
   "outputs": [],
   "source": [
    "import torch\n",
    "import torch.nn as nn\n",
    "import torch.nn.functional as F \n",
    "\n",
    "import jax\n",
    "import jax.numpy as jnp\n",
    "from flax import linen as jnn\n",
    "\n",
    "import einops"
   ]
  },
  {
   "cell_type": "code",
   "execution_count": 4,
   "metadata": {},
   "outputs": [
    {
     "data": {
      "text/plain": [
       "array([[[[ 0.,  1.,  2.,  3.,  4.],\n",
       "         [ 5.,  6.,  7.,  8.,  9.],\n",
       "         [10., 11., 12., 13., 14.],\n",
       "         [15., 16., 17., 18., 19.],\n",
       "         [20., 21., 22., 23., 24.]]]])"
      ]
     },
     "execution_count": 4,
     "metadata": {},
     "output_type": "execute_result"
    }
   ],
   "source": [
    "# Test grid sample \n",
    "x = np.arange(25.).reshape((1, 1, 5, 5))\n",
    "x"
   ]
  },
  {
   "cell_type": "code",
   "execution_count": 13,
   "metadata": {},
   "outputs": [
    {
     "name": "stdout",
     "output_type": "stream",
     "text": [
      "torch_grid:  tensor([[[-0.5048, -0.9436, -0.7713,  0.1125,  0.0106],\n",
      "         [-0.5177, -0.7973, -0.3634, -0.0250,  0.4466],\n",
      "         [-0.3332,  0.0376,  0.2303, -0.5626,  0.3011],\n",
      "         [-0.5748, -0.5264,  0.1371,  0.5615, -0.6268],\n",
      "         [-0.5502,  0.2950, -0.0785,  0.9615,  0.3548]]]) torch.Size([1, 5, 5, 2])\n",
      "numpy_grid:  [0.9904866  0.11270928 0.45735264 2.2249892  2.021273   0.96463203\n",
      " 0.40530038 1.2731702  1.9500761  2.8932679  1.3335369  2.0752418\n",
      " 2.4606476  0.8748789  2.6021693  0.85030246 0.9471445  2.2742271\n",
      " 3.1229355  0.74645925 0.8996985  2.5900836  1.8429229  3.9230647\n",
      " 2.709521  ] (2, 25)\n",
      "torch output:  tensor([[ 9.6686, 10.2754, 16.9405,  3.4484, 12.3776],\n",
      "        [ 0.4979, 19.6236, 17.0953,  1.1155,  4.5924],\n",
      "        [20.6826, 21.4377, 18.9383,  9.0154, 17.8115],\n",
      "        [20.5534,  8.3198,  8.6805, 19.4595,  0.2202],\n",
      "        [20.2133,  6.1495, 15.3396,  7.5569,  8.3712]]) torch.Size([1, 1, 5, 5])\n",
      "jax output:  [ 6.7813168  3.5288527  5.3857765 11.711691  14.056815   4.987488\n",
      "  5.5652256 10.117428   9.810962  15.102469  10.190191  13.871195\n",
      " 15.321233   6.1218767 15.820255   7.8500013  6.357465  12.785168\n",
      " 18.583618   3.7390614  8.032688  13.896323  11.780373  21.403444\n",
      " 14.825094 ] (25,)\n"
     ]
    },
    {
     "name": "stderr",
     "output_type": "stream",
     "text": [
      "/opt/conda/envs/jax/lib/python3.10/site-packages/torch/nn/functional.py:4316: UserWarning: Default grid_sample and affine_grid behavior has changed to align_corners=False since 1.3.0. Please specify align_corners=True if the old behavior is desired. See the documentation of grid_sample for details.\n",
      "  warnings.warn(\n"
     ]
    }
   ],
   "source": [
    "# equal to x\n",
    "src_grid = torch.rand((1, 5, 5, 2), dtype=torch.float)\n",
    "torch_grid = src_grid * 2 - 1\n",
    "numpy_grid = src_grid.permute(0,3,1,2).reshape((2, -1)).numpy() * (torch_grid.shape[1] - 1)\n",
    "print('torch_grid: ',torch_grid[...,0], torch_grid.shape)\n",
    "print('numpy_grid: ',numpy_grid[0], numpy_grid.shape)\n",
    "\n",
    "torch_output = F.grid_sample(torch.tensor(copy.deepcopy(x), dtype = torch.float32), torch_grid)\n",
    "print('torch output: ',torch_output[0,0,...], torch_output.shape)\n",
    "\n",
    "jax_output = jax.scipy.ndimage.map_coordinates(copy.deepcopy(x[0,0,...]), numpy_grid, order = 1)\n",
    "print('jax output: ',jax_output, jax_output.shape)"
   ]
  },
  {
   "cell_type": "code",
   "execution_count": null,
   "metadata": {},
   "outputs": [],
   "source": []
  }
 ],
 "metadata": {
  "kernelspec": {
   "display_name": "jax",
   "language": "python",
   "name": "python3"
  },
  "language_info": {
   "codemirror_mode": {
    "name": "ipython",
    "version": 3
   },
   "file_extension": ".py",
   "mimetype": "text/x-python",
   "name": "python",
   "nbconvert_exporter": "python",
   "pygments_lexer": "ipython3",
   "version": "3.10.0"
  }
 },
 "nbformat": 4,
 "nbformat_minor": 2
}
